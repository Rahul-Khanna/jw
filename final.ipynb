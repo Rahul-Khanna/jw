{
 "cells": [
  {
   "cell_type": "code",
   "execution_count": 1,
   "metadata": {
    "collapsed": true
   },
   "outputs": [],
   "source": [
    "import pandas as pd\n",
    "from datetime import datetime\n",
    "from sklearn.model_selection import train_test_split\n",
    "from sklearn.ensemble import RandomForestRegressor\n",
    "from sklearn.ensemble import AdaBoostRegressor\n",
    "from scipy import sparse\n",
    "from implicit.als import AlternatingLeastSquares\n",
    "import numpy as np\n",
    "from sklearn import metrics\n",
    "import ipdb"
   ]
  },
  {
   "cell_type": "code",
   "execution_count": 2,
   "metadata": {
    "collapsed": true
   },
   "outputs": [],
   "source": [
    "fileName = \"jw_player_play_data.csv\""
   ]
  },
  {
   "cell_type": "code",
   "execution_count": 3,
   "metadata": {
    "collapsed": true
   },
   "outputs": [],
   "source": [
    "# the file in\n",
    "table = pd.read_csv(fileName, header=0)"
   ]
  },
  {
   "cell_type": "code",
   "execution_count": 57,
   "metadata": {},
   "outputs": [
    {
     "name": "stdout",
     "output_type": "stream",
     "text": [
      "\n"
     ]
    }
   ],
   "source": [
    "# setting all the categorical variables to categories\n",
    "table['publisher_category'] = table['publisher_category'].astype(\"category\")\n",
    "table['device_type'] = table['device_type'].astype(\"category\")\n",
    "table['country_code'] = table['country_code'].astype(\"category\")\n",
    "table['operating_system'] = table['operating_system'].astype(\"category\")\n",
    "table['browser'] = table['browser'].astype(\"category\")\n",
    "table['publisher'] = table['publisher'].astype(\"category\")\n",
    "table['viewer_id'] = table['viewer_id'].astype(\"category\")\n",
    "table['media_id'] = table['media_id'].astype(\"category\")\n",
    "\n",
    "# then storing id - category mapping as two different lookup tables\n",
    "# inspiration from here: \n",
    "# https://medium.com/towards-data-science/recommending-github-repositories-with-google-bigquery-and-the-implicit-library-e6cce666c77\n",
    "\n",
    "id_pub_cat = dict(enumerate(table['publisher_category'].cat.categories))\n",
    "pub_cat_ids = {x: i for i, x in id_pub_cat.iteritems()}\n",
    "\n",
    "id_device_type = dict(enumerate(table['device_type'].cat.categories))\n",
    "device_type_ids = {x: i for i, x in id_device_type.iteritems()}\n",
    "\n",
    "id_country_code = dict(enumerate(table['country_code'].cat.categories))\n",
    "country_code_ids = {x: i for i, x in id_country_code.iteritems()}\n",
    "\n",
    "id_operating_system = dict(enumerate(table['operating_system'].cat.categories))\n",
    "operating_system_ids = {x: i for i, x in id_operating_system.iteritems()}\n",
    "\n",
    "id_browser = dict(enumerate(table['browser'].cat.categories))\n",
    "browser_ids = {x: i for i, x in id_browser.iteritems()}\n",
    "\n",
    "id_publisher = dict(enumerate(table['publisher'].cat.categories))\n",
    "publisher_ids = {x: i for i, x in id_publisher.iteritems()}\n",
    "\n",
    "id_media_id = dict(enumerate(table['media_id'].cat.categories))\n",
    "media_id_ids = {x: i for i, x in id_media_id.iteritems()}\n",
    "\n",
    "id_viewer_id = dict(enumerate(table['viewer_id'].cat.categories))\n",
    "viewer_id_ids = {x: i for i, x in id_viewer_id.iteritems()}\n",
    "\n",
    "# the idea was to combat the variability in the country codes\n",
    "# an attempt to condense the info down\n",
    "# also ordered the continents by what I thought might be the most similar\n",
    "# in taste\n",
    "country_code_to_continent = {}\n",
    "cotinent_mapping = {\n",
    "    \"AF\" : 0,\n",
    "    \"AS\" : 1,\n",
    "    \"OC\" : 2,\n",
    "    \"EU\" : 3,\n",
    "    \"NA\" : 4,\n",
    "    \"SA\" : 5,\n",
    "    \"AN\" : 6\n",
    "}\n",
    "with open(\"country_codes_to_continent\") as f:\n",
    "    for line in f:\n",
    "        split = line.strip().split(\",\")\n",
    "        country_code_to_continent[split[0]] = split[1]"
   ]
  },
  {
   "cell_type": "code",
   "execution_count": 6,
   "metadata": {
    "collapsed": true
   },
   "outputs": [],
   "source": [
    "# Features to do with counts, as the implicit collab filtering package didn't work for me, I tried to come up with\n",
    "# features revolving around counts.\n",
    "\n",
    "# As I couldn't get the collab filtering package to recommend clips (didn't want the recommendations, but the scores)\n",
    "# the ideas was to see how many of clips similar to the one that we need to predict user engagement for had the user\n",
    "# watched\n",
    "# again got inspiration from here:\n",
    "# https://medium.com/towards-data-science/recommending-github-repositories-with-google-bigquery-and-the-implicit-library-e6cce666c77\n",
    "def getSimilarClips(trainingDF):\n",
    "    user_video = trainingDF[['viewer_id', 'media_id']]\n",
    "    user_video_counts = user_video.groupby(['viewer_id', 'media_id']).size().reset_index()\n",
    "    user_video_counts.columns = ['viewer_id', 'media_id', 'counts']\n",
    "    user_video_counts['viewer_id'] = user_video_counts['viewer_id'].astype(\"category\")\n",
    "    user_video_counts['media_id'] = user_video_counts['media_id'].astype(\"category\")\n",
    "\n",
    "    plays = sparse.csr_matrix((user_video_counts[\"counts\"].astype(\"float\"),\n",
    "                               (user_video_counts[\"media_id\"].cat.codes.copy(), \n",
    "                                user_video_counts[\"viewer_id\"].cat.codes.copy())))\n",
    "\n",
    "    collab_model = AlternatingLeastSquares(factors = 100, iterations = 50)\n",
    "    collab_model.fit(40*plays)\n",
    "\n",
    "    similar_items = {}\n",
    "    for media_id in media_id_ids:\n",
    "        similar_items[media_id] = set([id_media_id[v] for v,s in collab_model.similar_items(media_id_ids[media_id], N=100)])\n",
    "\n",
    "    return similar_items\n",
    "\n",
    "# For each video a user has watched, get the number of times the user has watched it\n",
    "def getUserVideoCounts(trainingDF):\n",
    "    user_video = trainingDF[['viewer_id', 'media_id']]\n",
    "    user_video_counts = user_video.groupby(['viewer_id', 'media_id']).size().reset_index()\n",
    "    user_video_counts.columns = ['viewer_id', 'media_id', 'counts']\n",
    "    user_video_counts_dic = {}\n",
    "    for row in user_video_counts.to_dict(orient='records'):\n",
    "        user = row[\"viewer_id\"]\n",
    "        video = row[\"media_id\"]\n",
    "        count = row[\"counts\"]\n",
    "        if user in user_video_counts_dic:\n",
    "            user_video_counts_dic[user][video] = count\n",
    "        else:\n",
    "            user_video_counts_dic[user] = {}\n",
    "            user_video_counts_dic[user][video] = count\n",
    "\n",
    "    return user_video_counts_dic\n",
    "\n",
    "# For each video get the number of times it has been watched it\n",
    "def getVideoCounts(trainingDF):\n",
    "    user_video = trainingDF[['viewer_id', 'media_id']]\n",
    "    video_counts = user_video.groupby(['media_id']).size().reset_index()\n",
    "    video_counts.columns = ['media_id', 'counts']\n",
    "\n",
    "    video_counts_dic = {}\n",
    "    for row in video_counts.to_dict(orient='records'):\n",
    "        video_counts_dic[row[\"media_id\"]] = row[\"counts\"]\n",
    "    \n",
    "    return video_counts_dic\n",
    "\n",
    "# For each user get the number of videos the user has watched\n",
    "def getUserCounts(trainingDF):\n",
    "    user_video = trainingDF[['viewer_id', 'media_id']]\n",
    "    user_counts = user_video.groupby(['viewer_id']).size().reset_index()\n",
    "    user_counts.columns = ['viewer_id', 'counts']\n",
    "\n",
    "    user_counts_dic = {}\n",
    "    for row in user_counts.to_dict(orient='records'):\n",
    "        user_counts_dic[row[\"viewer_id\"]] = row[\"counts\"]\n",
    "    \n",
    "    return user_counts_dic"
   ]
  },
  {
   "cell_type": "code",
   "execution_count": 42,
   "metadata": {
    "collapsed": true
   },
   "outputs": [],
   "source": [
    "# The idea here was to use some combinations of the mean, std and median watched_pct for each video, in order to help\n",
    "# the model\n",
    "# Turned out that std was the most useful\n",
    "def getVideoPercetageStats(trainingDF):\n",
    "    video_percents = trainingDF[[\"media_id\", \"watched_pct\"]]\n",
    "\n",
    "    video_percents_std = video_percents.groupby([\"media_id\"]).std().reset_index()\n",
    "    video_percents_std.columns = ['media_id', 'std']\n",
    "\n",
    "    video_percents_std_dict = {}\n",
    "    for row in video_percents_std.to_dict(orient='records'):\n",
    "        if row['std'] and str(row['std']) != 'nan':\n",
    "            video_percents_std_dict[row['media_id']] = row['std']\n",
    "        else:\n",
    "            video_percents_std_dict[row['media_id']] = 0\n",
    "    \n",
    "    return video_percents_std_dict"
   ]
  },
  {
   "cell_type": "code",
   "execution_count": 43,
   "metadata": {
    "collapsed": true
   },
   "outputs": [],
   "source": [
    "# The idea here was to use some combinations of the mean, std and median watched_pct for each user, in order to help\n",
    "# the model\n",
    "# Turned out that std was the most useful\n",
    "def getUserPercetageStats(trainingDF):\n",
    "    user_percents = table_train[[\"viewer_id\", \"watched_pct\"]]\n",
    "\n",
    "    user_percents_std = user_percents.groupby([\"viewer_id\"]).std().reset_index()\n",
    "    user_percents_std.columns = ['viewer_id', 'std']\n",
    "\n",
    "    user_percents_std_dict = {}\n",
    "    for row in user_percents_std.to_dict(orient='records'):\n",
    "        if row['std'] and str(row['std']) != 'nan':\n",
    "            user_percents_std_dict[row['viewer_id']] = row['std']\n",
    "        else:\n",
    "            user_percents_std_dict[row['viewer_id']] = 0\n",
    "    \n",
    "    return user_percents_std_dict"
   ]
  },
  {
   "cell_type": "code",
   "execution_count": 59,
   "metadata": {
    "collapsed": true
   },
   "outputs": [],
   "source": [
    "def intersectingWatchHistoryWithSimilarItems(user_id, media_id, user_video_counts_dic, similar_items):\n",
    "    if user_id in user_video_counts_dic and media_id in similar_items:\n",
    "        user_history = set(user_video_counts_dic[user_id].keys())\n",
    "        if len(user_history):\n",
    "            return len(similar_items[media_id].intersection(user_history)) / float(len(similar_items[media_id]))\n",
    "    else:\n",
    "        return 0"
   ]
  },
  {
   "cell_type": "code",
   "execution_count": 63,
   "metadata": {},
   "outputs": [],
   "source": [
    "# Function that actually creates the features to be used in the model to predict watched_pct\n",
    "def createFeature(row, user_video_counts_dic, video_counts_dic, similar_items,\n",
    "                  video_percents_std_dict, user_percents_std_dict, user_counts_dic):\n",
    "    feature = []\n",
    "\n",
    "    feature.append(row[\"ad_skips\"])\n",
    "\n",
    "    if row[\"browser\"] in browser_ids:\n",
    "        feature.append(browser_ids[row[\"browser\"]])\n",
    "    else:\n",
    "        feature.append(-1)\n",
    "\n",
    "    if row[\"country_code\"] in country_code_ids:\n",
    "        feature.append(country_code_ids[row[\"country_code\"]])\n",
    "    else:\n",
    "        feature.append(-1)\n",
    "\n",
    "    if row[\"device_type\"] in device_type_ids:\n",
    "        feature.append(device_type_ids[row[\"device_type\"]])\n",
    "    else:\n",
    "        feature.append(-1)\n",
    "   \n",
    "    feature.append(media_id_ids[row[\"media_id\"]])\n",
    "    \n",
    "    feature.append(viewer_id_ids[row[\"viewer_id\"]])\n",
    "    \n",
    "    if row[\"operating_system\"] in operating_system_ids:\n",
    "        feature.append(operating_system_ids[row[\"operating_system\"]])\n",
    "    else:\n",
    "        feature.append(-1)\n",
    "\n",
    "    feature.append(row[\"play_seq\"])\n",
    "    \n",
    "    if row[\"publisher\"] in publisher_ids:\n",
    "        feature.append(publisher_ids[row[\"publisher\"]])\n",
    "    else:\n",
    "        feature.append(-1)\n",
    "\n",
    "    if row[\"publisher_category\"] in pub_cat_ids:\n",
    "        feature.append(pub_cat_ids[row[\"publisher_category\"]])\n",
    "    else:\n",
    "        feature.append(-1)\n",
    "\n",
    "#     time from epoch in seconds... not the best feature as didn't include timezone info\n",
    "    time = datetime.strptime(row[\"start_time\"], '%Y-%m-%d %H:%M:%S')\n",
    "    feature.append((time-datetime(1970,1,1)).total_seconds())\n",
    "\n",
    "#     number of times viewer watched the video\n",
    "    if row[\"viewer_id\"] in user_video_counts_dic and row[\"media_id\"] in user_video_counts_dic[row[\"viewer_id\"]]:\n",
    "        feature.append(user_video_counts_dic[row[\"viewer_id\"]][row[\"media_id\"]])\n",
    "    else:\n",
    "        feature.append(0)\n",
    "        \n",
    "#   number of times the video has been watched\n",
    "    if row[\"media_id\"] in video_counts_dic:\n",
    "        feature.append(video_counts_dic[row[\"media_id\"]])\n",
    "    else:\n",
    "        feature.append(0)\n",
    "#   continent label\n",
    "    if row[\"country_code\"] in country_code_to_continent:\n",
    "        feature.append(cotinent_mapping[country_code_to_continent[row[\"country_code\"]]])\n",
    "    else:\n",
    "        feature.append(-1)\n",
    "\n",
    "#     % of similar items that the user has watched\n",
    "    feature.append(intersectingWatchHistoryWithSimilarItems(row[\"viewer_id\"], row[\"media_id\"], user_video_counts_dic,\n",
    "                                                           similar_items))\n",
    "#     std of user's watched_pct over all videos in training set\n",
    "    feature.append(user_percents_std_dict[row[\"viewer_id\"]])\n",
    "    \n",
    "#     std of video's watched_pct over all users in training set\n",
    "    feature.append(video_percents_std_dict[row[\"media_id\"]])\n",
    "\n",
    "#     number of videos the user has watched\n",
    "    feature.append(user_counts_dic[row[\"viewer_id\"]])\n",
    "\n",
    "    return feature\n",
    "        "
   ]
  },
  {
   "cell_type": "code",
   "execution_count": 64,
   "metadata": {},
   "outputs": [
    {
     "name": "stdout",
     "output_type": "stream",
     "text": [
      "0\n",
      "1\n",
      "2\n",
      "3\n",
      "4\n",
      "5\n",
      "6\n",
      "7\n",
      "8\n",
      "9\n"
     ]
    }
   ],
   "source": [
    "rSquared = []\n",
    "adjustedRSquared = []\n",
    "for i in range(10):\n",
    "    msk = np.random.rand(len(table)) < 0.8\n",
    "    table_train = table[msk]\n",
    "    table_test = table[~msk]\n",
    "    \n",
    "#     only using the training data here\n",
    "    \n",
    "    user_video_counts_dic = getUserVideoCounts(table_train)\n",
    "    \n",
    "    video_counts_dic = getVideoCounts(table_train)\n",
    "    \n",
    "    similar_clips = getSimilarClips(table_train)\n",
    "    \n",
    "    video_percents_std_dict = getVideoPercetageStats(table_train)\n",
    "    \n",
    "    user_percents_std_dict = getUserPercetageStats(table_train)\n",
    "    \n",
    "    user_counts_dic = getUserCounts(table_train)\n",
    "    \n",
    "    X_train = []\n",
    "    y_train = []\n",
    "    for row in table_train.to_dict(orient='records'):\n",
    "        X_train.append(createFeature(row, user_video_counts_dic, video_counts_dic, similar_clips,\n",
    "                                    video_percents_std_dict, user_percents_std_dict, user_counts_dic))\n",
    "        y_train.append(row[\"watched_pct\"])\n",
    "\n",
    "    X_test = []\n",
    "    y_test = []\n",
    "    for row in table_test.to_dict(orient='records'):\n",
    "        X_test.append(createFeature(row, user_video_counts_dic, video_counts_dic, similar_clips,\n",
    "                                    video_percents_std_dict, user_percents_std_dict, user_counts_dic))\n",
    "        y_test.append(row[\"watched_pct\"])\n",
    "\n",
    "#     I tried regular regression, SVR, AdaBoostRegresor and RandomForestRegessor \n",
    "#     RandomForestRegressor turned out to be the best\n",
    "    model = RandomForestRegressor(n_estimators = 50)\n",
    "    model.fit(X_train, y_train)\n",
    "    rSquare = model.score(X_test, y_test)\n",
    "    rSquared.append(rSquare)\n",
    "    adjusted = 1 - (1-rSquare)*(len(y_test)-1)/(len(y_test)-len(X_test[0])-1)\n",
    "    adjustedRSquared.append(adjusted)\n",
    "    print i"
   ]
  },
  {
   "cell_type": "code",
   "execution_count": 65,
   "metadata": {},
   "outputs": [
    {
     "name": "stdout",
     "output_type": "stream",
     "text": [
      "R^2 for the model is: \n",
      "0.312387405151\n"
     ]
    }
   ],
   "source": [
    "print \"R^2 for the model is: \"\n",
    "print sum(rSquared)/float(len(rSquared))"
   ]
  },
  {
   "cell_type": "code",
   "execution_count": 66,
   "metadata": {},
   "outputs": [
    {
     "name": "stdout",
     "output_type": "stream",
     "text": [
      "adjusted R^2 for the model is: \n",
      "0.31222388487\n"
     ]
    }
   ],
   "source": [
    "print \"adjusted R^2 for the model is: \"\n",
    "print sum(adjustedRSquared)/float(len(adjustedRSquared))"
   ]
  },
  {
   "cell_type": "code",
   "execution_count": null,
   "metadata": {
    "collapsed": true
   },
   "outputs": [],
   "source": []
  }
 ],
 "metadata": {
  "kernelspec": {
   "display_name": "Python 2",
   "language": "python",
   "name": "python2"
  },
  "language_info": {
   "codemirror_mode": {
    "name": "ipython",
    "version": 2
   },
   "file_extension": ".py",
   "mimetype": "text/x-python",
   "name": "python",
   "nbconvert_exporter": "python",
   "pygments_lexer": "ipython2",
   "version": "2.7.10"
  }
 },
 "nbformat": 4,
 "nbformat_minor": 2
}
