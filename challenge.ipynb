{
 "cells": [
  {
   "cell_type": "code",
   "execution_count": 829,
   "metadata": {
    "collapsed": true
   },
   "outputs": [],
   "source": [
    "import pandas as pd\n",
    "from datetime import datetime\n",
    "from sklearn.model_selection import train_test_split\n",
    "from sklearn.ensemble import RandomForestRegressor\n",
    "from sklearn.ensemble import AdaBoostRegressor\n",
    "from scipy import sparse\n",
    "from implicit.als import AlternatingLeastSquares\n",
    "import numpy as np\n",
    "import statsmodels.api as sm\n",
    "from sklearn import metrics\n",
    "from sklearn import svm"
   ]
  },
  {
   "cell_type": "code",
   "execution_count": 768,
   "metadata": {
    "collapsed": true
   },
   "outputs": [],
   "source": [
    "fileName = \"/Users/rahulkhanna/Downloads/JWPlayer_takehome/jw_player_play_data.csv\""
   ]
  },
  {
   "cell_type": "code",
   "execution_count": 769,
   "metadata": {
    "collapsed": true
   },
   "outputs": [],
   "source": [
    "table = pd.read_csv(fileName, header=0)"
   ]
  },
  {
   "cell_type": "code",
   "execution_count": 770,
   "metadata": {},
   "outputs": [
    {
     "data": {
      "text/html": [
       "<div>\n",
       "<style>\n",
       "    .dataframe thead tr:only-child th {\n",
       "        text-align: right;\n",
       "    }\n",
       "\n",
       "    .dataframe thead th {\n",
       "        text-align: left;\n",
       "    }\n",
       "\n",
       "    .dataframe tbody tr th {\n",
       "        vertical-align: top;\n",
       "    }\n",
       "</style>\n",
       "<table border=\"1\" class=\"dataframe\">\n",
       "  <thead>\n",
       "    <tr style=\"text-align: right;\">\n",
       "      <th></th>\n",
       "      <th>Unnamed: 0</th>\n",
       "      <th>viewer_id</th>\n",
       "      <th>embed_id</th>\n",
       "      <th>media_id</th>\n",
       "      <th>publisher_category</th>\n",
       "      <th>play_seq</th>\n",
       "      <th>start_time</th>\n",
       "      <th>viewer_tz_offset</th>\n",
       "      <th>watched_duration</th>\n",
       "      <th>watched_pct</th>\n",
       "      <th>device_type</th>\n",
       "      <th>country_code</th>\n",
       "      <th>operating_system</th>\n",
       "      <th>browser</th>\n",
       "      <th>ad_starts</th>\n",
       "      <th>ad_skips</th>\n",
       "      <th>publisher</th>\n",
       "    </tr>\n",
       "  </thead>\n",
       "  <tbody>\n",
       "    <tr>\n",
       "      <th>0</th>\n",
       "      <td>0</td>\n",
       "      <td>87d4ed651d7734062ae1a66774224cb5f4b1b5b5</td>\n",
       "      <td>wxh68oikj3e2</td>\n",
       "      <td>nTrJR9Bp</td>\n",
       "      <td>Arts &amp; Entertainment</td>\n",
       "      <td>1</td>\n",
       "      <td>2017-04-01 16:00:12</td>\n",
       "      <td>-5</td>\n",
       "      <td>50</td>\n",
       "      <td>37.5</td>\n",
       "      <td>Desktop</td>\n",
       "      <td>US</td>\n",
       "      <td>Windows</td>\n",
       "      <td>Chrome</td>\n",
       "      <td>0</td>\n",
       "      <td>0</td>\n",
       "      <td>Publisher 1</td>\n",
       "    </tr>\n",
       "    <tr>\n",
       "      <th>1</th>\n",
       "      <td>1</td>\n",
       "      <td>3f32d29cca5be762dfb3c2b0a787a3566efee41b</td>\n",
       "      <td>vwlmthe526hv</td>\n",
       "      <td>MVAUx6Aw</td>\n",
       "      <td>Arts &amp; Entertainment</td>\n",
       "      <td>1</td>\n",
       "      <td>2017-04-01 06:40:46</td>\n",
       "      <td>-4</td>\n",
       "      <td>36</td>\n",
       "      <td>75.0</td>\n",
       "      <td>Desktop</td>\n",
       "      <td>US</td>\n",
       "      <td>Linux</td>\n",
       "      <td>Chrome</td>\n",
       "      <td>0</td>\n",
       "      <td>0</td>\n",
       "      <td>Publisher 1</td>\n",
       "    </tr>\n",
       "    <tr>\n",
       "      <th>2</th>\n",
       "      <td>2</td>\n",
       "      <td>3f32d29cca5be762dfb3c2b0a787a3566efee41b</td>\n",
       "      <td>1fui6mc83q3p</td>\n",
       "      <td>MVAUx6Aw</td>\n",
       "      <td>Arts &amp; Entertainment</td>\n",
       "      <td>1</td>\n",
       "      <td>2017-04-01 06:08:52</td>\n",
       "      <td>-4</td>\n",
       "      <td>24</td>\n",
       "      <td>50.0</td>\n",
       "      <td>Desktop</td>\n",
       "      <td>US</td>\n",
       "      <td>Linux</td>\n",
       "      <td>Chrome</td>\n",
       "      <td>0</td>\n",
       "      <td>0</td>\n",
       "      <td>Publisher 1</td>\n",
       "    </tr>\n",
       "    <tr>\n",
       "      <th>3</th>\n",
       "      <td>3</td>\n",
       "      <td>1241192f3889451da505044ae9f5ca31330fdeb2</td>\n",
       "      <td>dt64anj5egeh</td>\n",
       "      <td>EwYnAdy0</td>\n",
       "      <td>Arts &amp; Entertainment</td>\n",
       "      <td>1</td>\n",
       "      <td>2017-04-01 07:54:58</td>\n",
       "      <td>-5</td>\n",
       "      <td>11</td>\n",
       "      <td>25.0</td>\n",
       "      <td>Desktop</td>\n",
       "      <td>US</td>\n",
       "      <td>Linux</td>\n",
       "      <td>Chrome</td>\n",
       "      <td>0</td>\n",
       "      <td>0</td>\n",
       "      <td>Publisher 1</td>\n",
       "    </tr>\n",
       "    <tr>\n",
       "      <th>4</th>\n",
       "      <td>4</td>\n",
       "      <td>65b973c2c861455cc3115b02d624c93edc0bd9f5</td>\n",
       "      <td>40b1yxz5qrhi</td>\n",
       "      <td>EwYnAdy0</td>\n",
       "      <td>Arts &amp; Entertainment</td>\n",
       "      <td>1</td>\n",
       "      <td>2017-04-01 13:42:12</td>\n",
       "      <td>-4</td>\n",
       "      <td>33</td>\n",
       "      <td>75.0</td>\n",
       "      <td>Desktop</td>\n",
       "      <td>US</td>\n",
       "      <td>Windows</td>\n",
       "      <td>Chrome</td>\n",
       "      <td>0</td>\n",
       "      <td>0</td>\n",
       "      <td>Publisher 1</td>\n",
       "    </tr>\n",
       "  </tbody>\n",
       "</table>\n",
       "</div>"
      ],
      "text/plain": [
       "   Unnamed: 0                                 viewer_id      embed_id  \\\n",
       "0           0  87d4ed651d7734062ae1a66774224cb5f4b1b5b5  wxh68oikj3e2   \n",
       "1           1  3f32d29cca5be762dfb3c2b0a787a3566efee41b  vwlmthe526hv   \n",
       "2           2  3f32d29cca5be762dfb3c2b0a787a3566efee41b  1fui6mc83q3p   \n",
       "3           3  1241192f3889451da505044ae9f5ca31330fdeb2  dt64anj5egeh   \n",
       "4           4  65b973c2c861455cc3115b02d624c93edc0bd9f5  40b1yxz5qrhi   \n",
       "\n",
       "   media_id    publisher_category  play_seq           start_time  \\\n",
       "0  nTrJR9Bp  Arts & Entertainment         1  2017-04-01 16:00:12   \n",
       "1  MVAUx6Aw  Arts & Entertainment         1  2017-04-01 06:40:46   \n",
       "2  MVAUx6Aw  Arts & Entertainment         1  2017-04-01 06:08:52   \n",
       "3  EwYnAdy0  Arts & Entertainment         1  2017-04-01 07:54:58   \n",
       "4  EwYnAdy0  Arts & Entertainment         1  2017-04-01 13:42:12   \n",
       "\n",
       "   viewer_tz_offset  watched_duration  watched_pct device_type country_code  \\\n",
       "0                -5                50         37.5     Desktop           US   \n",
       "1                -4                36         75.0     Desktop           US   \n",
       "2                -4                24         50.0     Desktop           US   \n",
       "3                -5                11         25.0     Desktop           US   \n",
       "4                -4                33         75.0     Desktop           US   \n",
       "\n",
       "  operating_system browser  ad_starts  ad_skips    publisher  \n",
       "0          Windows  Chrome          0         0  Publisher 1  \n",
       "1            Linux  Chrome          0         0  Publisher 1  \n",
       "2            Linux  Chrome          0         0  Publisher 1  \n",
       "3            Linux  Chrome          0         0  Publisher 1  \n",
       "4          Windows  Chrome          0         0  Publisher 1  "
      ]
     },
     "execution_count": 770,
     "metadata": {},
     "output_type": "execute_result"
    }
   ],
   "source": [
    "table.head()\n",
    "# table.columns"
   ]
  },
  {
   "cell_type": "code",
   "execution_count": 771,
   "metadata": {},
   "outputs": [
    {
     "name": "stdout",
     "output_type": "stream",
     "text": [
      "here are the different publisher_categories\n",
      "{'Business & Technology': 1, 'LMS': 3, 'Arts & Entertainment': 0, 'Sports': 9, 'Resellers': 7, 'OVPs': 6, 'OEM': 5, 'News': 4, 'SSPs / SVOD': 8, 'Corporate': 2}\n",
      "here are the different device_types\n",
      "{'Phone': 2, 'Other': 1, 'Tablet': 3, 'Desktop': 0}\n",
      "here are the different country codes\n",
      "{'BD': 13, 'BE': 14, 'BG': 15, 'BA': 11, 'BB': 12, 'BM': 17, 'BN': 18, 'BO': 19, 'BH': 16, 'BT': 23, 'JM': 79, 'BW': 24, 'WS': 164, 'BQ': 20, 'BR': 21, 'BS': 22, 'JE': 78, 'BY': 25, 'BZ': 26, 'RU': 134, 'RW': 135, 'RS': 133, 'RE': 131, 'RO': 132, 'GU': 63, 'GT': 62, 'GR': 61, 'JP': 81, 'GY': 64, 'GG': 57, 'GF': 56, 'GE': 55, 'GD': 54, 'GB': 53, 'SV': 145, 'GM': 60, 'GI': 59, 'GH': 58, 'OM': 119, 'TN': 150, '--': 0, 'JO': 80, 'HR': 67, 'HU': 68, 'HK': 65, 'HN': 66, 'PR': 126, 'PS': 127, 'PT': 128, 'PY': 129, 'PA': 120, 'PG': 122, 'PE': 121, 'PK': 124, 'PH': 123, 'PL': 125, 'ZM': 167, 'EE': 45, 'EG': 46, 'ZA': 166, 'EC': 44, 'IT': 77, 'ET': 48, 'ZW': 168, 'SA': 136, 'ES': 47, 'ME': 100, 'MD': 99, 'MA': 97, 'MC': 98, 'MO': 103, 'MN': 102, 'MK': 101, 'MU': 108, 'MT': 107, 'MV': 109, 'MQ': 105, 'MP': 104, 'MR': 106, 'AU': 7, 'UG': 157, 'TZ': 155, 'MY': 111, 'MX': 110, 'IL': 71, 'FR': 52, 'FI': 49, 'FJ': 50, 'FO': 51, 'NI': 114, 'NL': 115, 'NO': 116, 'SO': 142, 'NG': 113, 'NZ': 118, 'NP': 117, 'CK': 30, 'CI': 29, 'CH': 28, 'CO': 33, 'CN': 32, 'CL': 31, 'CA': 27, 'CZ': 37, 'CY': 36, 'CR': 34, 'CW': 35, 'SY': 147, 'SX': 146, 'KG': 83, 'KE': 82, 'SS': 144, 'SR': 143, 'KH': 84, 'KN': 85, 'SK': 140, 'KR': 86, 'SI': 139, 'KW': 87, 'SN': 141, 'KZ': 89, 'KY': 88, 'SG': 138, 'SE': 137, 'DO': 42, 'DM': 41, 'DJ': 39, 'DK': 40, 'DE': 38, 'YE': 165, 'DZ': 43, 'US': 158, 'UY': 159, 'LB': 90, 'LC': 91, 'TW': 154, 'TT': 153, 'TR': 152, 'LK': 92, 'LV': 95, 'TO': 151, 'LT': 93, 'LU': 94, 'TH': 149, 'TC': 148, 'LY': 96, 'VC': 160, 'AE': 1, 'VE': 161, 'AG': 3, 'AF': 2, 'IQ': 74, 'VI': 162, 'IS': 76, 'IR': 75, 'AL': 4, 'VN': 163, 'AR': 5, 'IM': 72, 'AT': 6, 'AW': 8, 'IN': 73, 'AX': 9, 'AZ': 10, 'IE': 70, 'ID': 69, 'UA': 156, 'QA': 130, 'MZ': 112}\n",
      "here are the operating systems\n",
      "{'iPad': 9, 'KindleFire': 3, 'MacOS': 5, 'GoogleChromeOS': 2, 'Windows': 7, 'WindowsPhone': 8, 'AndroidTablet': 1, 'Other': 6, 'iPhone': 10, 'Linux': 4, 'AndroidPhone': 0}\n",
      "here are the different browsers\n",
      "{'Opera': 6, 'Firefox': 4, 'Microsoft Internet Explorer': 5, 'Chrome': 1, 'Twitter': 9, 'ChromeiOS': 2, 'Android Stock Browser': 0, 'Other': 7, 'Facebook': 3, 'Safari': 8}\n",
      "here are the different publishers\n",
      "{'Publisher 99': 99, 'Publisher 98': 98, 'Publisher 97': 97, 'Publisher 96': 96, 'Publisher 95': 95, 'Publisher 94': 94, 'Publisher 100': 2, 'Publisher 92': 92, 'Publisher 91': 91, 'Publisher 90': 90, 'Publisher 93': 93, 'Publisher 17': 9, 'Publisher 16': 8, 'Publisher 15': 7, 'Publisher 14': 6, 'Publisher 13': 5, 'Publisher 12': 4, 'Publisher 11': 3, 'Publisher 10': 1, 'Publisher 19': 11, 'Publisher 18': 10, 'Publisher 22': 15, 'Publisher 23': 16, 'Publisher 20': 13, 'Publisher 21': 14, 'Publisher 26': 19, 'Publisher 27': 20, 'Publisher 24': 17, 'Publisher 25': 18, 'Publisher 28': 21, 'Publisher 29': 22, 'Publisher 39': 33, 'Publisher 38': 32, 'Publisher 35': 29, 'Publisher 34': 28, 'Publisher 37': 31, 'Publisher 36': 30, 'Publisher 31': 25, 'Publisher 30': 24, 'Publisher 33': 27, 'Publisher 32': 26, 'Publisher 48': 43, 'Publisher 49': 44, 'Publisher 40': 35, 'Publisher 41': 36, 'Publisher 42': 37, 'Publisher 43': 38, 'Publisher 44': 39, 'Publisher 45': 40, 'Publisher 46': 41, 'Publisher 47': 42, 'Publisher 3': 23, 'Publisher 2': 12, 'Publisher 1': 0, 'Publisher 7': 67, 'Publisher 6': 56, 'Publisher 5': 45, 'Publisher 4': 34, 'Publisher 9': 89, 'Publisher 8': 78, 'Publisher 59': 55, 'Publisher 58': 54, 'Publisher 53': 49, 'Publisher 52': 48, 'Publisher 51': 47, 'Publisher 50': 46, 'Publisher 57': 53, 'Publisher 56': 52, 'Publisher 55': 51, 'Publisher 54': 50, 'Publisher 66': 63, 'Publisher 67': 64, 'Publisher 64': 61, 'Publisher 65': 62, 'Publisher 62': 59, 'Publisher 63': 60, 'Publisher 60': 57, 'Publisher 61': 58, 'Publisher 68': 65, 'Publisher 69': 66, 'Publisher 88': 87, 'Publisher 89': 88, 'Publisher 84': 83, 'Publisher 85': 84, 'Publisher 86': 85, 'Publisher 87': 86, 'Publisher 80': 79, 'Publisher 81': 80, 'Publisher 82': 81, 'Publisher 83': 82, 'Publisher 71': 69, 'Publisher 70': 68, 'Publisher 73': 71, 'Publisher 72': 70, 'Publisher 75': 73, 'Publisher 74': 72, 'Publisher 77': 75, 'Publisher 76': 74, 'Publisher 79': 77, 'Publisher 78': 76}\n"
     ]
    }
   ],
   "source": [
    "table['publisher_category'] = table['publisher_category'].astype(\"category\")\n",
    "table['device_type'] = table['device_type'].astype(\"category\")\n",
    "table['country_code'] = table['country_code'].astype(\"category\")\n",
    "table['operating_system'] = table['operating_system'].astype(\"category\")\n",
    "table['browser'] = table['browser'].astype(\"category\")\n",
    "table['publisher'] = table['publisher'].astype(\"category\")\n",
    "table['viewer_id'] = table['viewer_id'].astype(\"category\")\n",
    "table['media_id'] = table['media_id'].astype(\"category\")\n",
    "\n",
    "id_pub_cat = dict(enumerate(table['publisher_category'].cat.categories))\n",
    "pub_cat_ids = {x: i for i, x in id_pub_cat.iteritems()}\n",
    "print(\"here are the different publisher_categories\")\n",
    "print(str(pub_cat_ids))\n",
    "\n",
    "id_device_type = dict(enumerate(table['device_type'].cat.categories))\n",
    "device_type_ids = {x: i for i, x in id_device_type.iteritems()}\n",
    "print(\"here are the different device_types\")\n",
    "print(str(device_type_ids))\n",
    "\n",
    "id_country_code = dict(enumerate(table['country_code'].cat.categories))\n",
    "country_code_ids = {x: i for i, x in id_country_code.iteritems()}\n",
    "print(\"here are the different country codes\")\n",
    "print(str(country_code_ids))\n",
    "\n",
    "id_operating_system = dict(enumerate(table['operating_system'].cat.categories))\n",
    "operating_system_ids = {x: i for i, x in id_operating_system.iteritems()}\n",
    "print(\"here are the operating systems\")\n",
    "print(str(operating_system_ids))\n",
    "\n",
    "id_browser = dict(enumerate(table['browser'].cat.categories))\n",
    "browser_ids = {x: i for i, x in id_browser.iteritems()}\n",
    "print(\"here are the different browsers\")\n",
    "print(str(browser_ids))\n",
    "\n",
    "id_publisher = dict(enumerate(table['publisher'].cat.categories))\n",
    "publisher_ids = {x: i for i, x in id_publisher.iteritems()}\n",
    "print(\"here are the different publishers\")\n",
    "print(str(publisher_ids))\n",
    "\n",
    "id_media_id = dict(enumerate(table['media_id'].cat.categories))\n",
    "media_id_ids = {x: i for i, x in id_media_id.iteritems()}\n",
    "\n",
    "id_viewer_id = dict(enumerate(table['viewer_id'].cat.categories))\n",
    "viewer_id_ids = {x: i for i, x in id_viewer_id.iteritems()}\n",
    "\n",
    "country_code_to_continent = {}\n",
    "cotinent_mapping = {\n",
    "    \"AF\" : 0,\n",
    "    \"AS\" : 1,\n",
    "    \"OC\" : 2,\n",
    "    \"EU\" : 3,\n",
    "    \"NA\" : 4,\n",
    "    \"SA\" : 5,\n",
    "    \"AN\" : 6\n",
    "}\n",
    "with open(\"country_codes_to_continent\") as f:\n",
    "    for line in f:\n",
    "        split = line.strip().split(\",\")\n",
    "        country_code_to_continent[split[0]] = split[1]"
   ]
  },
  {
   "cell_type": "code",
   "execution_count": 772,
   "metadata": {
    "collapsed": true
   },
   "outputs": [],
   "source": [
    "msk = np.random.rand(len(table)) < 0.8\n",
    "table_train = table[msk]\n",
    "table_test = table[~msk]"
   ]
  },
  {
   "cell_type": "code",
   "execution_count": 773,
   "metadata": {
    "collapsed": true
   },
   "outputs": [],
   "source": [
    "user_video = table_train[['viewer_id', 'media_id']]\n",
    "\n",
    "user_video_counts = user_video.groupby(['viewer_id', 'media_id']).size().reset_index()\n",
    "user_video_counts.columns = ['viewer_id', 'media_id', 'counts']\n",
    "user_video_counts['viewer_id'] = user_video_counts['viewer_id'].astype(\"category\")\n",
    "user_video_counts['media_id'] = user_video_counts['media_id'].astype(\"category\")\n",
    "\n",
    "plays = sparse.csr_matrix((user_video_counts[\"counts\"].astype(\"float\"),\n",
    "                           (user_video_counts[\"media_id\"].cat.codes.copy(), \n",
    "                            user_video_counts[\"viewer_id\"].cat.codes.copy())))\n",
    "\n",
    "collab_model = AlternatingLeastSquares(factors = 100, iterations = 50)\n",
    "collab_model.fit(40*plays)\n",
    "\n",
    "user_video_counts_dic = {}\n",
    "for row in user_video_counts.to_dict(orient='records'):\n",
    "    user = row[\"viewer_id\"]\n",
    "    video = row[\"media_id\"]\n",
    "    count = row[\"counts\"]\n",
    "    if user in user_video_counts_dic:\n",
    "        user_video_counts_dic[user][video] = count\n",
    "    else:\n",
    "        user_video_counts_dic[user] = {}\n",
    "        user_video_counts_dic[user][video] = count\n",
    "\n",
    "\n",
    "video_counts = user_video.groupby(['media_id']).size().reset_index()\n",
    "video_counts.columns = ['media_id', 'counts']\n",
    "\n",
    "video_counts_dic = {}\n",
    "for row in video_counts.to_dict(orient='records'):\n",
    "    video_counts_dic[row[\"media_id\"]] = row[\"counts\"]\n",
    "\n",
    "user_counts = user_video.groupby(['viewer_id']).size().reset_index()\n",
    "user_counts.columns = ['viewer_id', 'counts']\n",
    "\n",
    "user_counts_dic = {}\n",
    "for row in user_counts.to_dict(orient='records'):\n",
    "    user_counts_dic[row[\"viewer_id\"]] = row[\"counts\"]"
   ]
  },
  {
   "cell_type": "code",
   "execution_count": 774,
   "metadata": {},
   "outputs": [
    {
     "data": {
      "text/plain": [
       "(227387, 227387)"
      ]
     },
     "execution_count": 774,
     "metadata": {},
     "output_type": "execute_result"
    }
   ],
   "source": [
    "len(user_video_counts[\"media_id\"].cat.codes.copy()), len(user_video_counts[\"viewer_id\"].cat.codes.copy())"
   ]
  },
  {
   "cell_type": "code",
   "execution_count": 775,
   "metadata": {
    "collapsed": true
   },
   "outputs": [],
   "source": [
    "video_percents = table_train[[\"media_id\", \"watched_pct\"]]\n",
    "\n",
    "video_percents_average = video_percents.groupby([\"media_id\"]).mean().reset_index()\n",
    "video_percents_average.columns = ['media_id', 'avg']\n",
    "\n",
    "video_percents_average_dict = {}\n",
    "for row in video_percents_average.to_dict(orient='records'):\n",
    "    if row['avg'] and str(row['avg']) != 'nan':\n",
    "        video_percents_average_dict[row['media_id']] = row['avg']\n",
    "    else:\n",
    "        video_percents_average_dict[row['media_id']] = 0\n",
    "\n",
    "video_percents_std = video_percents.groupby([\"media_id\"]).std().reset_index()\n",
    "video_percents_std.columns = ['media_id', 'std']\n",
    "\n",
    "video_percents_std_dict = {}\n",
    "for row in video_percents_std.to_dict(orient='records'):\n",
    "    if row['std'] and str(row['std']) != 'nan':\n",
    "        video_percents_std_dict[row['media_id']] = row['std']\n",
    "    else:\n",
    "        video_percents_std_dict[row['media_id']] = 0\n",
    "\n",
    "video_percents_median = video_percents.groupby([\"media_id\"]).median().reset_index()\n",
    "video_percents_median.columns = ['media_id', 'median']\n",
    "\n",
    "video_percents_median_dict = {}\n",
    "for row in video_percents_median.to_dict(orient='records'):\n",
    "    if row['median'] and str(row['median']) != 'nan':\n",
    "        video_percents_median_dict[row['media_id']] = row['median']\n",
    "    else:\n",
    "        video_percents_median_dict[row['media_id']] = 0"
   ]
  },
  {
   "cell_type": "code",
   "execution_count": 776,
   "metadata": {
    "collapsed": true
   },
   "outputs": [],
   "source": [
    "user_percents = table_train[[\"viewer_id\", \"watched_pct\"]]\n",
    "\n",
    "user_percents_average = user_percents.groupby([\"viewer_id\"]).mean().reset_index()\n",
    "user_percents_average.columns = ['viewer_id', 'avg']\n",
    "\n",
    "user_percents_average_dict = {}\n",
    "for row in user_percents_average.to_dict(orient='records'):\n",
    "    if row['avg'] and str(row['avg']) != 'nan':\n",
    "        user_percents_average_dict[row['viewer_id']] = row['avg']\n",
    "    else:\n",
    "        user_percents_average_dict[row['viewer_id']] = 0\n",
    "\n",
    "user_percents_std = user_percents.groupby([\"viewer_id\"]).std().reset_index()\n",
    "user_percents_std.columns = ['viewer_id', 'std']\n",
    "\n",
    "user_percents_std_dict = {}\n",
    "for row in user_percents_std.to_dict(orient='records'):\n",
    "    if row['std'] and str(row['std']) != 'nan':\n",
    "        user_percents_std_dict[row['viewer_id']] = row['std']\n",
    "    else:\n",
    "        user_percents_std_dict[row['viewer_id']] = 0\n",
    "\n",
    "user_percents_median = user_percents.groupby([\"viewer_id\"]).median().reset_index()\n",
    "user_percents_median.columns = ['viewer_id', 'median']\n",
    "\n",
    "user_percents_median_dict = {}\n",
    "for row in user_percents_median.to_dict(orient='records'):\n",
    "    if row['median'] and str(row['median']) != 'nan':\n",
    "        user_percents_median_dict[row['viewer_id']] = row['median']\n",
    "    else:\n",
    "        user_percents_median_dict[row['viewer_id']] = 0"
   ]
  },
  {
   "cell_type": "code",
   "execution_count": 777,
   "metadata": {
    "collapsed": true
   },
   "outputs": [],
   "source": [
    "with open(\"temp\", \"w\") as f:\n",
    "    for row in user_percents.to_dict(orient='records'):\n",
    "        tup = (row[\"viewer_id\"], row[\"watched_pct\"], user_percents_average_dict[row[\"viewer_id\"]])\n",
    "        f.write(str(tup))\n",
    "        f.write(\"\\n\")"
   ]
  },
  {
   "cell_type": "code",
   "execution_count": 778,
   "metadata": {
    "collapsed": true
   },
   "outputs": [],
   "source": [
    "similar_items = {}\n",
    "def fillSimilarItems():\n",
    "    for media_id in media_id_ids:\n",
    "        similar_items[media_id] = set([id_media_id[v] for v,s in collab_model.similar_items(media_id_ids[media_id], N=100)])\n",
    "\n",
    "fillSimilarItems()"
   ]
  },
  {
   "cell_type": "code",
   "execution_count": 779,
   "metadata": {},
   "outputs": [
    {
     "data": {
      "text/plain": [
       "0.01"
      ]
     },
     "execution_count": 779,
     "metadata": {},
     "output_type": "execute_result"
    }
   ],
   "source": [
    "# using global variables\n",
    "def intersectingWatchHistoryWithSimilarItems(user_id, media_id):\n",
    "    if user_id in user_video_counts_dic and media_id in similar_items:\n",
    "        user_history = set(user_video_counts_dic[user_id].keys())\n",
    "        if len(user_history):\n",
    "            return len(similar_items[media_id].intersection(user_history)) / float(len(similar_items[media_id]))\n",
    "    else:\n",
    "        return 0\n",
    "    \n",
    "    \n",
    "intersectingWatchHistoryWithSimilarItems(\"d4614f09cddefb1ff996543c1b82fcbd65fdfdc9\",\"2M8ZBJet\")   "
   ]
  },
  {
   "cell_type": "code",
   "execution_count": 917,
   "metadata": {
    "collapsed": true,
    "scrolled": true
   },
   "outputs": [],
   "source": [
    "def createFeature(row):\n",
    "    feature = []\n",
    "    # 1\n",
    "    feature.append(row[\"ad_skips\"])\n",
    "    # 2\n",
    "    if row[\"browser\"] in browser_ids:\n",
    "        feature.append(browser_ids[row[\"browser\"]])\n",
    "    else:\n",
    "        feature.append(-1)\n",
    "    # 3\n",
    "    if row[\"country_code\"] in country_code_ids:\n",
    "        feature.append(country_code_ids[row[\"country_code\"]])\n",
    "    else:\n",
    "        feature.append(-1)\n",
    "    # 4\n",
    "    if row[\"device_type\"] in device_type_ids:\n",
    "        feature.append(device_type_ids[row[\"device_type\"]])\n",
    "    else:\n",
    "        feature.append(-1)\n",
    "        \n",
    "    # 5\n",
    "    feature.append(media_id_ids[row[\"media_id\"]])\n",
    "    \n",
    "    # 6\n",
    "    feature.append(viewer_id_ids[row[\"viewer_id\"]])\n",
    "    \n",
    "    # 7\n",
    "    if row[\"operating_system\"] in operating_system_ids:\n",
    "        feature.append(operating_system_ids[row[\"operating_system\"]])\n",
    "    else:\n",
    "        feature.append(-1)\n",
    "\n",
    "    # 8\n",
    "    feature.append(row[\"play_seq\"])\n",
    "    \n",
    "    # 9\n",
    "    if row[\"publisher\"] in publisher_ids:\n",
    "        feature.append(publisher_ids[row[\"publisher\"]])\n",
    "    else:\n",
    "        feature.append(-1)\n",
    "\n",
    "    # 10\n",
    "    if row[\"publisher_category\"] in pub_cat_ids:\n",
    "        feature.append(pub_cat_ids[row[\"publisher_category\"]])\n",
    "    else:\n",
    "        feature.append(-1)\n",
    "        \n",
    "    # 11\n",
    "    time = datetime.strptime(row[\"start_time\"], '%Y-%m-%d %H:%M:%S')\n",
    "    feature.append((time-datetime(1970,1,1)).total_seconds())\n",
    "    \n",
    "    # 12\n",
    "    if row[\"viewer_id\"] in user_video_counts_dic and row[\"media_id\"] in user_video_counts_dic[row[\"viewer_id\"]]:\n",
    "        feature.append(user_video_counts_dic[row[\"viewer_id\"]][row[\"media_id\"]])\n",
    "    else:\n",
    "        feature.append(0)\n",
    "\n",
    "    # 13\n",
    "    if row[\"media_id\"] in video_counts_dic:\n",
    "        feature.append(video_counts_dic[row[\"media_id\"]])\n",
    "    else:\n",
    "        feature.append(0)\n",
    "    \n",
    "    # 14\n",
    "    if row[\"country_code\"] in country_code_to_continent:\n",
    "        feature.append(cotinent_mapping[country_code_to_continent[row[\"country_code\"]]])\n",
    "    else:\n",
    "        feature.append(-1)\n",
    "    \n",
    "    # 15\n",
    "    feature.append(intersectingWatchHistoryWithSimilarItems(row[\"viewer_id\"], row[\"media_id\"]))\n",
    "    \n",
    "#     # 16\n",
    "#     if user_percents_average_dict[row[\"viewer_id\"]] > 0 :\n",
    "#         feature.append(user_percents_std_dict[row[\"viewer_id\"]] / user_percents_average_dict[row[\"viewer_id\"]])\n",
    "#     else:\n",
    "#         feature.append(0)\n",
    "    \n",
    "     # 17\n",
    "    feature.append(user_percents_std_dict[row[\"viewer_id\"]])\n",
    "    \n",
    "     # 18\n",
    "#     feature.append(user_percents_median_dict[row[\"viewer_id\"]])\n",
    "\n",
    "    # 19\n",
    "#     feature.append(user_percents_average_dict[row[\"viewer_id\"]])\n",
    "\n",
    "    # 20\n",
    "#     if video_percents_average_dict[row[\"media_id\"]] > 0 :\n",
    "#         feature.append(video_percents_std_dict[row[\"media_id\"]] / video_percents_average_dict[row[\"media_id\"]])\n",
    "#     else:\n",
    "#         feature.append(0)\n",
    "\n",
    "    # 21\n",
    "    feature.append(video_percents_std_dict[row[\"media_id\"]])\n",
    "\n",
    "    # 22\n",
    "#     feature.append(video_percents_median_dict[row[\"media_id\"]])\n",
    "\n",
    "    # 23\n",
    "#     feature.append(video_percents_average_dict[row[\"media_id\"]])\n",
    "\n",
    "    # 24\n",
    "    feature.append(user_counts_dic[row[\"viewer_id\"]])\n",
    "\n",
    "\n",
    "    \n",
    "    return feature\n",
    "                   \n",
    "X_train = []\n",
    "y_train = []\n",
    "for row in table_train.to_dict(orient='records'):\n",
    "    X_train.append(createFeature(row))\n",
    "    y_train.append(row[\"watched_pct\"])\n",
    "\n",
    "X_test = []\n",
    "y_test = []\n",
    "for row in table_test.to_dict(orient='records'):\n",
    "    X_test.append(createFeature(row))\n",
    "    y_test.append(row[\"watched_pct\"])"
   ]
  },
  {
   "cell_type": "code",
   "execution_count": 918,
   "metadata": {},
   "outputs": [
    {
     "data": {
      "text/plain": [
       "(302863, 302863, 75639, 75639)"
      ]
     },
     "execution_count": 918,
     "metadata": {},
     "output_type": "execute_result"
    }
   ],
   "source": [
    "len(X_train), len(y_train), len(X_test), len(y_test)"
   ]
  },
  {
   "cell_type": "code",
   "execution_count": 919,
   "metadata": {
    "collapsed": true
   },
   "outputs": [],
   "source": [
    "# X_train, X_test, y_train, y_test = train_test_split(features, percentages, test_size=0.33, random_state=1)"
   ]
  },
  {
   "cell_type": "code",
   "execution_count": 920,
   "metadata": {
    "collapsed": true
   },
   "outputs": [],
   "source": [
    "regressor = RandomForestRegressor(n_estimators = 50)"
   ]
  },
  {
   "cell_type": "code",
   "execution_count": 921,
   "metadata": {},
   "outputs": [
    {
     "data": {
      "text/plain": [
       "RandomForestRegressor(bootstrap=True, criterion='mse', max_depth=None,\n",
       "           max_features='auto', max_leaf_nodes=None,\n",
       "           min_impurity_decrease=0.0, min_impurity_split=None,\n",
       "           min_samples_leaf=1, min_samples_split=2,\n",
       "           min_weight_fraction_leaf=0.0, n_estimators=50, n_jobs=1,\n",
       "           oob_score=False, random_state=None, verbose=0, warm_start=False)"
      ]
     },
     "execution_count": 921,
     "metadata": {},
     "output_type": "execute_result"
    }
   ],
   "source": [
    "regressor.fit(X_train, y_train)"
   ]
  },
  {
   "cell_type": "code",
   "execution_count": 922,
   "metadata": {},
   "outputs": [
    {
     "data": {
      "text/plain": [
       "0.31828676132154665"
      ]
     },
     "execution_count": 922,
     "metadata": {},
     "output_type": "execute_result"
    }
   ],
   "source": [
    "regressor.score(X_test, y_test)"
   ]
  },
  {
   "cell_type": "code",
   "execution_count": 925,
   "metadata": {},
   "outputs": [
    {
     "name": "stdout",
     "output_type": "stream",
     "text": [
      "0.318286761322 0.318124491575\n"
     ]
    }
   ],
   "source": [
    "# https://stackoverflow.com/questions/42033720/python-sklearn-multiple-linear-regression-display-r-squared\n",
    "yhat = regressor.predict(X_test)\n",
    "SS_Residual = sum((y_test-yhat)**2)\n",
    "SS_Total = sum((y_test-np.mean(y_test))**2)\n",
    "r_squared = 1 - (float(SS_Residual))/SS_Total\n",
    "adjusted_r_squared = 1 - (1-r_squared)*(len(y_test)-1)/float((len(y_test)-len(X_test[0])-1))\n",
    "print r_squared, adjusted_r_squared"
   ]
  },
  {
   "cell_type": "code",
   "execution_count": null,
   "metadata": {},
   "outputs": [],
   "source": []
  },
  {
   "cell_type": "code",
   "execution_count": null,
   "metadata": {},
   "outputs": [],
   "source": [
    "regressor.feature_importances_"
   ]
  },
  {
   "cell_type": "code",
   "execution_count": 814,
   "metadata": {
    "collapsed": true
   },
   "outputs": [],
   "source": [
    "regressor1 = sm.OLS(y_train, X_train)"
   ]
  },
  {
   "cell_type": "code",
   "execution_count": 825,
   "metadata": {
    "collapsed": true
   },
   "outputs": [],
   "source": [
    "results = regressor1.fit_regularized()"
   ]
  },
  {
   "cell_type": "code",
   "execution_count": null,
   "metadata": {},
   "outputs": [],
   "source": []
  },
  {
   "cell_type": "code",
   "execution_count": 828,
   "metadata": {},
   "outputs": [
    {
     "name": "stdout",
     "output_type": "stream",
     "text": [
      "None\n"
     ]
    }
   ],
   "source": [
    "print results.summary()"
   ]
  },
  {
   "cell_type": "code",
   "execution_count": 826,
   "metadata": {
    "collapsed": true
   },
   "outputs": [],
   "source": [
    "results2 = regressor1.predict(results.params, X_test)"
   ]
  },
  {
   "cell_type": "code",
   "execution_count": 827,
   "metadata": {},
   "outputs": [
    {
     "data": {
      "text/plain": [
       "0.18396935926088043"
      ]
     },
     "execution_count": 827,
     "metadata": {},
     "output_type": "execute_result"
    }
   ],
   "source": [
    "metrics.r2_score(y_test, results2)"
   ]
  },
  {
   "cell_type": "code",
   "execution_count": 839,
   "metadata": {},
   "outputs": [],
   "source": [
    "regressor2 = svm.LinearSVR()"
   ]
  },
  {
   "cell_type": "code",
   "execution_count": 841,
   "metadata": {},
   "outputs": [
    {
     "data": {
      "text/plain": [
       "(11, 11)"
      ]
     },
     "execution_count": 841,
     "metadata": {},
     "output_type": "execute_result"
    }
   ],
   "source": [
    "len(X_train[0]), len(X_test[0])"
   ]
  },
  {
   "cell_type": "code",
   "execution_count": 846,
   "metadata": {},
   "outputs": [
    {
     "data": {
      "text/plain": [
       "LinearSVR(C=0.5, dual=True, epsilon=0.0, fit_intercept=True,\n",
       "     intercept_scaling=1.0, loss='epsilon_insensitive', max_iter=1000,\n",
       "     random_state=None, tol=0.0001, verbose=0)"
      ]
     },
     "execution_count": 846,
     "metadata": {},
     "output_type": "execute_result"
    }
   ],
   "source": [
    "regressor2.fit(X_train, y_train)"
   ]
  },
  {
   "cell_type": "code",
   "execution_count": 847,
   "metadata": {},
   "outputs": [
    {
     "data": {
      "text/plain": [
       "0.025138075003707017"
      ]
     },
     "execution_count": 847,
     "metadata": {},
     "output_type": "execute_result"
    }
   ],
   "source": [
    "regressor2.score(X_test, y_test)"
   ]
  },
  {
   "cell_type": "code",
   "execution_count": null,
   "metadata": {
    "collapsed": true
   },
   "outputs": [],
   "source": []
  }
 ],
 "metadata": {
  "kernelspec": {
   "display_name": "Python 2",
   "language": "python",
   "name": "python2"
  },
  "language_info": {
   "codemirror_mode": {
    "name": "ipython",
    "version": 2
   },
   "file_extension": ".py",
   "mimetype": "text/x-python",
   "name": "python",
   "nbconvert_exporter": "python",
   "pygments_lexer": "ipython2",
   "version": "2.7.10"
  }
 },
 "nbformat": 4,
 "nbformat_minor": 2
}
